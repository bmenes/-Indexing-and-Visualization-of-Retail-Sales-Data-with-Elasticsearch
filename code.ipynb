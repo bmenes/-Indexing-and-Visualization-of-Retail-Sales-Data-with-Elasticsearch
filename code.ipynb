{
 "cells": [
  {
   "cell_type": "code",
   "execution_count": 1,
   "id": "c129d4f2-2ec2-4de9-9353-28b35e332de2",
   "metadata": {},
   "outputs": [
    {
     "name": "stdout",
     "output_type": "stream",
     "text": [
      "Requirement already satisfied: findspark in /usr/local/lib/python3.8/site-packages (2.0.1)\n",
      "\u001b[33mWARNING: Running pip as the 'root' user can result in broken permissions and conflicting behaviour with the system package manager. It is recommended to use a virtual environment instead: https://pip.pypa.io/warnings/venv\u001b[0m\u001b[33m\n",
      "\u001b[0m\n",
      "\u001b[1m[\u001b[0m\u001b[34;49mnotice\u001b[0m\u001b[1;39;49m]\u001b[0m\u001b[39;49m A new release of pip is available: \u001b[0m\u001b[31;49m23.0.1\u001b[0m\u001b[39;49m -> \u001b[0m\u001b[32;49m24.0\u001b[0m\n",
      "\u001b[1m[\u001b[0m\u001b[34;49mnotice\u001b[0m\u001b[1;39;49m]\u001b[0m\u001b[39;49m To update, run: \u001b[0m\u001b[32;49mpip install --upgrade pip\u001b[0m\n"
     ]
    }
   ],
   "source": [
    "! pip install findspark"
   ]
  },
  {
   "cell_type": "code",
   "execution_count": 2,
   "id": "49d5e5c6-2536-42dc-8b50-2fd38980a6d2",
   "metadata": {},
   "outputs": [
    {
     "name": "stdout",
     "output_type": "stream",
     "text": [
      "Requirement already satisfied: elasticsearch==7.9.0 in /usr/local/lib/python3.8/site-packages (7.9.0)\n",
      "Requirement already satisfied: urllib3>=1.21.1 in /usr/local/lib/python3.8/site-packages (from elasticsearch==7.9.0) (1.26.16)\n",
      "Requirement already satisfied: certifi in /usr/local/lib/python3.8/site-packages (from elasticsearch==7.9.0) (2023.7.22)\n",
      "\u001b[33mWARNING: Running pip as the 'root' user can result in broken permissions and conflicting behaviour with the system package manager. It is recommended to use a virtual environment instead: https://pip.pypa.io/warnings/venv\u001b[0m\u001b[33m\n",
      "\u001b[0m\n",
      "\u001b[1m[\u001b[0m\u001b[34;49mnotice\u001b[0m\u001b[1;39;49m]\u001b[0m\u001b[39;49m A new release of pip is available: \u001b[0m\u001b[31;49m23.0.1\u001b[0m\u001b[39;49m -> \u001b[0m\u001b[32;49m24.0\u001b[0m\n",
      "\u001b[1m[\u001b[0m\u001b[34;49mnotice\u001b[0m\u001b[1;39;49m]\u001b[0m\u001b[39;49m To update, run: \u001b[0m\u001b[32;49mpip install --upgrade pip\u001b[0m\n"
     ]
    }
   ],
   "source": [
    "! pip install elasticsearch==7.9.0"
   ]
  },
  {
   "cell_type": "code",
   "execution_count": 3,
   "id": "8dc99e59-d0f5-44fe-8ac1-9a952f0c0a9a",
   "metadata": {},
   "outputs": [],
   "source": [
    "import findspark\n",
    "from elasticsearch import Elasticsearch, helpers\n",
    "import time"
   ]
  },
  {
   "cell_type": "code",
   "execution_count": 4,
   "id": "4e397c74-fdd9-4dfb-b283-b3690102ea71",
   "metadata": {},
   "outputs": [],
   "source": [
    "findspark.init(\"/opt/spark\")"
   ]
  },
  {
   "cell_type": "code",
   "execution_count": 5,
   "id": "0e7954f0-3cee-4d71-9fa2-257aa7780548",
   "metadata": {},
   "outputs": [],
   "source": [
    "from pyspark.sql import SparkSession, functions as F\n",
    "from pyspark.sql.types import *\n",
    "from pyspark.sql.functions import col, struct"
   ]
  },
  {
   "cell_type": "code",
   "execution_count": 6,
   "id": "b8af659a-dc65-46c0-8b4a-e747d19f7fcc",
   "metadata": {},
   "outputs": [
    {
     "name": "stdout",
     "output_type": "stream",
     "text": [
      "--2024-06-12 12:18:57--  https://github.com/erkansirin78/datasets/raw/master/market1mil.csv.gz\n",
      "Resolving github.com (github.com)... failed: Temporary failure in name resolution.\n",
      "wget: unable to resolve host address ‘github.com’\n"
     ]
    }
   ],
   "source": [
    "! wget https://github.com/erkansirin78/datasets/raw/master/market1mil.csv.gz"
   ]
  },
  {
   "cell_type": "code",
   "execution_count": 7,
   "id": "1a5256af-aec1-49a9-b9f8-8345292f340b",
   "metadata": {},
   "outputs": [
    {
     "name": "stdout",
     "output_type": "stream",
     "text": [
      ":: loading settings :: url = jar:file:/opt/spark/jars/ivy-2.5.1.jar!/org/apache/ivy/core/settings/ivysettings.xml\n"
     ]
    },
    {
     "name": "stderr",
     "output_type": "stream",
     "text": [
      "Ivy Default Cache set to: /root/.ivy2/cache\n",
      "The jars for the packages stored in: /root/.ivy2/jars\n",
      "org.elasticsearch#elasticsearch-spark-30_2.12 added as a dependency\n",
      "commons-httpclient#commons-httpclient added as a dependency\n",
      "io.delta#delta-core_2.12 added as a dependency\n",
      ":: resolving dependencies :: org.apache.spark#spark-submit-parent-580bb3e0-ae08-4d4a-b04e-fc59fc50f292;1.0\n",
      "\tconfs: [default]\n",
      "\tfound org.elasticsearch#elasticsearch-spark-30_2.12;7.12.1 in central\n",
      "\tfound org.scala-lang#scala-reflect;2.12.8 in central\n",
      "\tfound org.slf4j#slf4j-api;1.7.6 in central\n",
      "\tfound commons-logging#commons-logging;1.1.1 in central\n",
      "\tfound javax.xml.bind#jaxb-api;2.3.1 in central\n",
      "\tfound com.google.protobuf#protobuf-java;2.5.0 in central\n",
      "\tfound org.apache.spark#spark-yarn_2.12;3.0.1 in central\n",
      "\tfound commons-httpclient#commons-httpclient;3.1 in central\n",
      "\tfound commons-codec#commons-codec;1.2 in central\n",
      "\tfound io.delta#delta-core_2.12;2.4.0 in central\n",
      "\tfound io.delta#delta-storage;2.4.0 in central\n",
      "\tfound org.antlr#antlr4-runtime;4.9.3 in central\n",
      ":: resolution report :: resolve 2120ms :: artifacts dl 101ms\n",
      "\t:: modules in use:\n",
      "\tcom.google.protobuf#protobuf-java;2.5.0 from central in [default]\n",
      "\tcommons-codec#commons-codec;1.2 from central in [default]\n",
      "\tcommons-httpclient#commons-httpclient;3.1 from central in [default]\n",
      "\tcommons-logging#commons-logging;1.1.1 from central in [default]\n",
      "\tio.delta#delta-core_2.12;2.4.0 from central in [default]\n",
      "\tio.delta#delta-storage;2.4.0 from central in [default]\n",
      "\tjavax.xml.bind#jaxb-api;2.3.1 from central in [default]\n",
      "\torg.antlr#antlr4-runtime;4.9.3 from central in [default]\n",
      "\torg.apache.spark#spark-yarn_2.12;3.0.1 from central in [default]\n",
      "\torg.elasticsearch#elasticsearch-spark-30_2.12;7.12.1 from central in [default]\n",
      "\torg.scala-lang#scala-reflect;2.12.8 from central in [default]\n",
      "\torg.slf4j#slf4j-api;1.7.6 from central in [default]\n",
      "\t:: evicted modules:\n",
      "\tcommons-logging#commons-logging;1.0.4 by [commons-logging#commons-logging;1.1.1] in [default]\n",
      "\t---------------------------------------------------------------------\n",
      "\t|                  |            modules            ||   artifacts   |\n",
      "\t|       conf       | number| search|dwnlded|evicted|| number|dwnlded|\n",
      "\t---------------------------------------------------------------------\n",
      "\t|      default     |   13  |   0   |   0   |   1   ||   12  |   0   |\n",
      "\t---------------------------------------------------------------------\n",
      ":: retrieving :: org.apache.spark#spark-submit-parent-580bb3e0-ae08-4d4a-b04e-fc59fc50f292\n",
      "\tconfs: [default]\n",
      "\t0 artifacts copied, 12 already retrieved (0kB/27ms)\n",
      "24/06/12 12:19:38 WARN NativeCodeLoader: Unable to load native-hadoop library for your platform... using builtin-java classes where applicable\n",
      "Setting default log level to \"WARN\".\n",
      "To adjust logging level use sc.setLogLevel(newLevel). For SparkR, use setLogLevel(newLevel).\n"
     ]
    }
   ],
   "source": [
    "spark = (\n",
    "    SparkSession.builder\n",
    "    .appName(\"Spark Elasticsearch\")\n",
    "    .master(\"local[2]\")\n",
    "    .config(\"spark.driver.memory\",\"2048m\")\n",
    "    .config(\"spark.sql.shuffle.partitions\", 4)\n",
    "    .config(\"spark.serializer\", \"org.apache.spark.serializer.KryoSerializer\")\n",
    "    .config(\"spark.jars.packages\", \"org.elasticsearch:elasticsearch-spark-30_2.12:7.12.1,commons-httpclient:commons-httpclient:3.1,io.delta:delta-core_2.12:2.4.0\") \n",
    "    .getOrCreate()\n",
    ")"
   ]
  },
  {
   "cell_type": "code",
   "execution_count": 8,
   "id": "2ccc9fe8-015b-4bc5-a998-4381119b0c59",
   "metadata": {},
   "outputs": [
    {
     "name": "stdout",
     "output_type": "stream",
     "text": [
      "gzip: market1mil.csv already exists; do you wish to overwrite (y or n)? ^C\n"
     ]
    }
   ],
   "source": [
    "!gzip -d market1mil.csv.gz"
   ]
  },
  {
   "cell_type": "code",
   "execution_count": 9,
   "id": "c38f48dc-2854-4324-a936-00d05dfbab4c",
   "metadata": {},
   "outputs": [
    {
     "name": "stdout",
     "output_type": "stream",
     "text": [
      "/\n"
     ]
    }
   ],
   "source": [
    "! pwd"
   ]
  },
  {
   "cell_type": "code",
   "execution_count": 10,
   "id": "c8624d00-666a-48eb-896f-dccf30fc8b07",
   "metadata": {},
   "outputs": [
    {
     "name": "stderr",
     "output_type": "stream",
     "text": [
      "                                                                                \r"
     ]
    }
   ],
   "source": [
    "df=spark.read.format(\"csv\") \\\n",
    ".option(\"header\",True) \\\n",
    ".option(\"sep\", \";\") \\\n",
    ".option(\"inferSchema\",True) \\\n",
    ".load(\"file:///market1mil.csv\")"
   ]
  },
  {
   "cell_type": "code",
   "execution_count": 11,
   "id": "53ffabf3-e900-4164-b4ec-13cfbc00588a",
   "metadata": {},
   "outputs": [
    {
     "name": "stderr",
     "output_type": "stream",
     "text": [
      "                                                                                \r"
     ]
    },
    {
     "data": {
      "text/plain": [
       "999853"
      ]
     },
     "execution_count": 11,
     "metadata": {},
     "output_type": "execute_result"
    }
   ],
   "source": [
    "df.count()"
   ]
  },
  {
   "cell_type": "code",
   "execution_count": 12,
   "id": "fc40a503-4084-4799-bc96-1b71b257697f",
   "metadata": {},
   "outputs": [],
   "source": [
    "df1=df.dropna()"
   ]
  },
  {
   "cell_type": "code",
   "execution_count": 13,
   "id": "7910cb94-eec8-45d4-a7d4-8d3fea731f35",
   "metadata": {},
   "outputs": [
    {
     "name": "stderr",
     "output_type": "stream",
     "text": [
      "24/06/12 12:21:06 WARN package: Truncated the string representation of a plan since it was too large. This behavior can be adjusted by setting 'spark.sql.debug.maxToStringFields'.\n",
      "                                                                                \r"
     ]
    },
    {
     "data": {
      "text/plain": [
       "597075"
      ]
     },
     "execution_count": 13,
     "metadata": {},
     "output_type": "execute_result"
    }
   ],
   "source": [
    "df1.count()"
   ]
  },
  {
   "cell_type": "code",
   "execution_count": 14,
   "id": "89715e86-f036-41bc-a28f-e7087ec9af31",
   "metadata": {},
   "outputs": [
    {
     "data": {
      "text/html": [
       "<div>\n",
       "<style scoped>\n",
       "    .dataframe tbody tr th:only-of-type {\n",
       "        vertical-align: middle;\n",
       "    }\n",
       "\n",
       "    .dataframe tbody tr th {\n",
       "        vertical-align: top;\n",
       "    }\n",
       "\n",
       "    .dataframe thead th {\n",
       "        text-align: right;\n",
       "    }\n",
       "</style>\n",
       "<table border=\"1\" class=\"dataframe\">\n",
       "  <thead>\n",
       "    <tr style=\"text-align: right;\">\n",
       "      <th></th>\n",
       "      <th>LOGICALREF</th>\n",
       "      <th>COUNT_</th>\n",
       "      <th>ITEMCODE</th>\n",
       "      <th>ITEMNAME</th>\n",
       "      <th>FICHENO</th>\n",
       "      <th>DATE_</th>\n",
       "      <th>AMOUNT</th>\n",
       "      <th>PRICE</th>\n",
       "      <th>LINENETTOTAL</th>\n",
       "      <th>LINENET</th>\n",
       "      <th>...</th>\n",
       "      <th>CLIENTNAME</th>\n",
       "      <th>BRANDCODE</th>\n",
       "      <th>BRAND</th>\n",
       "      <th>CATEGORY_NAME1</th>\n",
       "      <th>CATEGORY_NAME2</th>\n",
       "      <th>CATEGORY_NAME3</th>\n",
       "      <th>STARTDATE</th>\n",
       "      <th>ENDDATE</th>\n",
       "      <th>SPECODE</th>\n",
       "      <th>CAPIBLOCK_CREADEDDATE</th>\n",
       "    </tr>\n",
       "  </thead>\n",
       "  <tbody>\n",
       "    <tr>\n",
       "      <th>0</th>\n",
       "      <td>2</td>\n",
       "      <td>1</td>\n",
       "      <td>20868</td>\n",
       "      <td>KIRMIZI MERCIMEK</td>\n",
       "      <td>15560</td>\n",
       "      <td>2.01.2017 00:00</td>\n",
       "      <td>1,006</td>\n",
       "      <td>2,8</td>\n",
       "      <td>2,82</td>\n",
       "      <td>2,79</td>\n",
       "      <td>...</td>\n",
       "      <td>Hanım CANBULAT</td>\n",
       "      <td>167</td>\n",
       "      <td>BAKLİYAT</td>\n",
       "      <td>GIDA</td>\n",
       "      <td>BAKLİYAT</td>\n",
       "      <td>AÇIK BAKLİYAT</td>\n",
       "      <td>3.01.2017 09:25</td>\n",
       "      <td>3.01.2017 09:25</td>\n",
       "      <td>K</td>\n",
       "      <td>14.07.2018 01:50</td>\n",
       "    </tr>\n",
       "    <tr>\n",
       "      <th>1</th>\n",
       "      <td>3</td>\n",
       "      <td>1</td>\n",
       "      <td>8583</td>\n",
       "      <td>TEST MATIK 1,5 KG NORMAL</td>\n",
       "      <td>15560</td>\n",
       "      <td>2.01.2017 00:00</td>\n",
       "      <td>1</td>\n",
       "      <td>4,95</td>\n",
       "      <td>4,95</td>\n",
       "      <td>4,19</td>\n",
       "      <td>...</td>\n",
       "      <td>Hanım CANBULAT</td>\n",
       "      <td>229</td>\n",
       "      <td>TEST</td>\n",
       "      <td>DETERJAN TEMİZLİK</td>\n",
       "      <td>ÇAMAŞIR YIKAMA</td>\n",
       "      <td>TOZ DETERJAN</td>\n",
       "      <td>3.01.2017 09:25</td>\n",
       "      <td>3.01.2017 09:25</td>\n",
       "      <td>K</td>\n",
       "      <td>14.07.2018 01:50</td>\n",
       "    </tr>\n",
       "    <tr>\n",
       "      <th>2</th>\n",
       "      <td>4</td>\n",
       "      <td>1</td>\n",
       "      <td>1454</td>\n",
       "      <td>BIZIM MAKARNA BONCUK</td>\n",
       "      <td>15560</td>\n",
       "      <td>2.01.2017 00:00</td>\n",
       "      <td>1</td>\n",
       "      <td>1,1</td>\n",
       "      <td>1,1</td>\n",
       "      <td>1,02</td>\n",
       "      <td>...</td>\n",
       "      <td>Hanım CANBULAT</td>\n",
       "      <td>146</td>\n",
       "      <td>ÜLKER</td>\n",
       "      <td>GIDA</td>\n",
       "      <td>MAKARNA</td>\n",
       "      <td>MAKARNA</td>\n",
       "      <td>3.01.2017 09:25</td>\n",
       "      <td>3.01.2017 09:25</td>\n",
       "      <td>K</td>\n",
       "      <td>14.07.2018 01:50</td>\n",
       "    </tr>\n",
       "    <tr>\n",
       "      <th>3</th>\n",
       "      <td>5</td>\n",
       "      <td>1</td>\n",
       "      <td>13519</td>\n",
       "      <td>FILIZ MAKARNA KISA KESME 500 GR</td>\n",
       "      <td>15560</td>\n",
       "      <td>2.01.2017 00:00</td>\n",
       "      <td>1</td>\n",
       "      <td>1,1</td>\n",
       "      <td>1,1</td>\n",
       "      <td>1,02</td>\n",
       "      <td>...</td>\n",
       "      <td>Hanım CANBULAT</td>\n",
       "      <td>52</td>\n",
       "      <td>FİLİZ</td>\n",
       "      <td>GIDA</td>\n",
       "      <td>MAKARNA</td>\n",
       "      <td>MAKARNA</td>\n",
       "      <td>3.01.2017 09:25</td>\n",
       "      <td>3.01.2017 09:25</td>\n",
       "      <td>K</td>\n",
       "      <td>14.07.2018 01:50</td>\n",
       "    </tr>\n",
       "    <tr>\n",
       "      <th>4</th>\n",
       "      <td>6</td>\n",
       "      <td>1</td>\n",
       "      <td>8639</td>\n",
       "      <td>BINGO ULTRA CAM.SUYU 750 ML KLASIK</td>\n",
       "      <td>15560</td>\n",
       "      <td>2.01.2017 00:00</td>\n",
       "      <td>1</td>\n",
       "      <td>2,45</td>\n",
       "      <td>2,45</td>\n",
       "      <td>2,08</td>\n",
       "      <td>...</td>\n",
       "      <td>Hanım CANBULAT</td>\n",
       "      <td>224</td>\n",
       "      <td>BİNGO</td>\n",
       "      <td>DETERJAN TEMİZLİK</td>\n",
       "      <td>ÇAMAŞIR YIKAMA</td>\n",
       "      <td>ÇAMAŞIR SULARI</td>\n",
       "      <td>3.01.2017 09:25</td>\n",
       "      <td>3.01.2017 09:25</td>\n",
       "      <td>K</td>\n",
       "      <td>14.07.2018 01:50</td>\n",
       "    </tr>\n",
       "  </tbody>\n",
       "</table>\n",
       "<p>5 rows × 28 columns</p>\n",
       "</div>"
      ],
      "text/plain": [
       "  LOGICALREF  COUNT_  ITEMCODE                            ITEMNAME  FICHENO  \\\n",
       "0          2       1     20868                    KIRMIZI MERCIMEK    15560   \n",
       "1          3       1      8583            TEST MATIK 1,5 KG NORMAL    15560   \n",
       "2          4       1      1454                BIZIM MAKARNA BONCUK    15560   \n",
       "3          5       1     13519     FILIZ MAKARNA KISA KESME 500 GR    15560   \n",
       "4          6       1      8639  BINGO ULTRA CAM.SUYU 750 ML KLASIK    15560   \n",
       "\n",
       "             DATE_ AMOUNT PRICE LINENETTOTAL LINENET  ...      CLIENTNAME  \\\n",
       "0  2.01.2017 00:00  1,006   2,8         2,82    2,79  ...  Hanım CANBULAT   \n",
       "1  2.01.2017 00:00      1  4,95         4,95    4,19  ...  Hanım CANBULAT   \n",
       "2  2.01.2017 00:00      1   1,1          1,1    1,02  ...  Hanım CANBULAT   \n",
       "3  2.01.2017 00:00      1   1,1          1,1    1,02  ...  Hanım CANBULAT   \n",
       "4  2.01.2017 00:00      1  2,45         2,45    2,08  ...  Hanım CANBULAT   \n",
       "\n",
       "  BRANDCODE     BRAND     CATEGORY_NAME1  CATEGORY_NAME2  CATEGORY_NAME3  \\\n",
       "0       167  BAKLİYAT               GIDA        BAKLİYAT   AÇIK BAKLİYAT   \n",
       "1       229      TEST  DETERJAN TEMİZLİK  ÇAMAŞIR YIKAMA    TOZ DETERJAN   \n",
       "2       146     ÜLKER               GIDA         MAKARNA        MAKARNA    \n",
       "3        52     FİLİZ               GIDA         MAKARNA        MAKARNA    \n",
       "4       224     BİNGO  DETERJAN TEMİZLİK  ÇAMAŞIR YIKAMA  ÇAMAŞIR SULARI   \n",
       "\n",
       "         STARTDATE          ENDDATE SPECODE CAPIBLOCK_CREADEDDATE  \n",
       "0  3.01.2017 09:25  3.01.2017 09:25       K      14.07.2018 01:50  \n",
       "1  3.01.2017 09:25  3.01.2017 09:25       K      14.07.2018 01:50  \n",
       "2  3.01.2017 09:25  3.01.2017 09:25       K      14.07.2018 01:50  \n",
       "3  3.01.2017 09:25  3.01.2017 09:25       K      14.07.2018 01:50  \n",
       "4  3.01.2017 09:25  3.01.2017 09:25       K      14.07.2018 01:50  \n",
       "\n",
       "[5 rows x 28 columns]"
      ]
     },
     "execution_count": 14,
     "metadata": {},
     "output_type": "execute_result"
    }
   ],
   "source": [
    "df1.limit(5).toPandas()"
   ]
  },
  {
   "cell_type": "code",
   "execution_count": 15,
   "id": "40b70ff5-2e18-455a-bdc8-3091c71f179f",
   "metadata": {},
   "outputs": [
    {
     "name": "stdout",
     "output_type": "stream",
     "text": [
      "root\n",
      " |-- LOGICALREF: string (nullable = true)\n",
      " |-- COUNT_: integer (nullable = true)\n",
      " |-- ITEMCODE: integer (nullable = true)\n",
      " |-- ITEMNAME: string (nullable = true)\n",
      " |-- FICHENO: integer (nullable = true)\n",
      " |-- DATE_: string (nullable = true)\n",
      " |-- AMOUNT: string (nullable = true)\n",
      " |-- PRICE: string (nullable = true)\n",
      " |-- LINENETTOTAL: string (nullable = true)\n",
      " |-- LINENET: string (nullable = true)\n",
      " |-- BRANCHNR: integer (nullable = true)\n",
      " |-- BRANCH: string (nullable = true)\n",
      " |-- SALESMAN: string (nullable = true)\n",
      " |-- CITY: string (nullable = true)\n",
      " |-- REGION: string (nullable = true)\n",
      " |-- LATITUDE: string (nullable = true)\n",
      " |-- LONGITUDE: string (nullable = true)\n",
      " |-- CLIENTCODE: string (nullable = true)\n",
      " |-- CLIENTNAME: string (nullable = true)\n",
      " |-- BRANDCODE: string (nullable = true)\n",
      " |-- BRAND: string (nullable = true)\n",
      " |-- CATEGORY_NAME1: string (nullable = true)\n",
      " |-- CATEGORY_NAME2: string (nullable = true)\n",
      " |-- CATEGORY_NAME3: string (nullable = true)\n",
      " |-- STARTDATE: string (nullable = true)\n",
      " |-- ENDDATE: string (nullable = true)\n",
      " |-- SPECODE: string (nullable = true)\n",
      " |-- CAPIBLOCK_CREADEDDATE: string (nullable = true)\n",
      "\n"
     ]
    }
   ],
   "source": [
    "df1.printSchema()"
   ]
  },
  {
   "cell_type": "code",
   "execution_count": 16,
   "id": "794ad8bc-2bc5-4b98-baec-d7f2dc2a5889",
   "metadata": {},
   "outputs": [],
   "source": [
    "df2 = (df1.select(\n",
    "    col(\"LOGICALREF\").cast(\"integer\"),\n",
    "    col(\"ITEMCODE\").cast(\"integer\"),\n",
    "    col(\"ITEMNAME\").cast(\"string\"),\n",
    "    col(\"AMOUNT\").cast(\"string\"),\n",
    "    col(\"PRICE\").cast(\"string\"),\n",
    "    col(\"LINENETTOTAL\").cast(\"string\"),\n",
    "    col(\"BRANCH\").cast(\"string\"),  \n",
    "    col(\"CITY\").cast(\"string\"),    \n",
    "    col(\"BRAND\").cast(\"string\"),   \n",
    "    col(\"STARTDATE\").cast(\"string\")   \n",
    "))"
   ]
  },
  {
   "cell_type": "code",
   "execution_count": 17,
   "id": "fbcd79b7-d433-491a-b272-3f0a5a73fafb",
   "metadata": {},
   "outputs": [
    {
     "data": {
      "text/html": [
       "<div>\n",
       "<style scoped>\n",
       "    .dataframe tbody tr th:only-of-type {\n",
       "        vertical-align: middle;\n",
       "    }\n",
       "\n",
       "    .dataframe tbody tr th {\n",
       "        vertical-align: top;\n",
       "    }\n",
       "\n",
       "    .dataframe thead th {\n",
       "        text-align: right;\n",
       "    }\n",
       "</style>\n",
       "<table border=\"1\" class=\"dataframe\">\n",
       "  <thead>\n",
       "    <tr style=\"text-align: right;\">\n",
       "      <th></th>\n",
       "      <th>LOGICALREF</th>\n",
       "      <th>ITEMCODE</th>\n",
       "      <th>ITEMNAME</th>\n",
       "      <th>AMOUNT</th>\n",
       "      <th>PRICE</th>\n",
       "      <th>LINENETTOTAL</th>\n",
       "      <th>BRANCH</th>\n",
       "      <th>CITY</th>\n",
       "      <th>BRAND</th>\n",
       "      <th>STARTDATE</th>\n",
       "    </tr>\n",
       "  </thead>\n",
       "  <tbody>\n",
       "    <tr>\n",
       "      <th>0</th>\n",
       "      <td>2</td>\n",
       "      <td>20868</td>\n",
       "      <td>KIRMIZI MERCIMEK</td>\n",
       "      <td>1,006</td>\n",
       "      <td>2,8</td>\n",
       "      <td>2,82</td>\n",
       "      <td>Batman Subesi</td>\n",
       "      <td>Batman</td>\n",
       "      <td>BAKLİYAT</td>\n",
       "      <td>3.01.2017 09:25</td>\n",
       "    </tr>\n",
       "    <tr>\n",
       "      <th>1</th>\n",
       "      <td>3</td>\n",
       "      <td>8583</td>\n",
       "      <td>TEST MATIK 1,5 KG NORMAL</td>\n",
       "      <td>1</td>\n",
       "      <td>4,95</td>\n",
       "      <td>4,95</td>\n",
       "      <td>Batman Subesi</td>\n",
       "      <td>Batman</td>\n",
       "      <td>TEST</td>\n",
       "      <td>3.01.2017 09:25</td>\n",
       "    </tr>\n",
       "    <tr>\n",
       "      <th>2</th>\n",
       "      <td>4</td>\n",
       "      <td>1454</td>\n",
       "      <td>BIZIM MAKARNA BONCUK</td>\n",
       "      <td>1</td>\n",
       "      <td>1,1</td>\n",
       "      <td>1,1</td>\n",
       "      <td>Batman Subesi</td>\n",
       "      <td>Batman</td>\n",
       "      <td>ÜLKER</td>\n",
       "      <td>3.01.2017 09:25</td>\n",
       "    </tr>\n",
       "    <tr>\n",
       "      <th>3</th>\n",
       "      <td>5</td>\n",
       "      <td>13519</td>\n",
       "      <td>FILIZ MAKARNA KISA KESME 500 GR</td>\n",
       "      <td>1</td>\n",
       "      <td>1,1</td>\n",
       "      <td>1,1</td>\n",
       "      <td>Batman Subesi</td>\n",
       "      <td>Batman</td>\n",
       "      <td>FİLİZ</td>\n",
       "      <td>3.01.2017 09:25</td>\n",
       "    </tr>\n",
       "    <tr>\n",
       "      <th>4</th>\n",
       "      <td>6</td>\n",
       "      <td>8639</td>\n",
       "      <td>BINGO ULTRA CAM.SUYU 750 ML KLASIK</td>\n",
       "      <td>1</td>\n",
       "      <td>2,45</td>\n",
       "      <td>2,45</td>\n",
       "      <td>Batman Subesi</td>\n",
       "      <td>Batman</td>\n",
       "      <td>BİNGO</td>\n",
       "      <td>3.01.2017 09:25</td>\n",
       "    </tr>\n",
       "  </tbody>\n",
       "</table>\n",
       "</div>"
      ],
      "text/plain": [
       "   LOGICALREF  ITEMCODE                            ITEMNAME AMOUNT PRICE  \\\n",
       "0           2     20868                    KIRMIZI MERCIMEK  1,006   2,8   \n",
       "1           3      8583            TEST MATIK 1,5 KG NORMAL      1  4,95   \n",
       "2           4      1454                BIZIM MAKARNA BONCUK      1   1,1   \n",
       "3           5     13519     FILIZ MAKARNA KISA KESME 500 GR      1   1,1   \n",
       "4           6      8639  BINGO ULTRA CAM.SUYU 750 ML KLASIK      1  2,45   \n",
       "\n",
       "  LINENETTOTAL         BRANCH    CITY     BRAND        STARTDATE  \n",
       "0         2,82  Batman Subesi  Batman  BAKLİYAT  3.01.2017 09:25  \n",
       "1         4,95  Batman Subesi  Batman      TEST  3.01.2017 09:25  \n",
       "2          1,1  Batman Subesi  Batman     ÜLKER  3.01.2017 09:25  \n",
       "3          1,1  Batman Subesi  Batman     FİLİZ  3.01.2017 09:25  \n",
       "4         2,45  Batman Subesi  Batman     BİNGO  3.01.2017 09:25  "
      ]
     },
     "execution_count": 17,
     "metadata": {},
     "output_type": "execute_result"
    }
   ],
   "source": [
    "df2.limit(5).toPandas()"
   ]
  },
  {
   "cell_type": "code",
   "execution_count": 18,
   "id": "e5957c87-d223-4104-8371-2b70edd35785",
   "metadata": {},
   "outputs": [
    {
     "name": "stderr",
     "output_type": "stream",
     "text": [
      "                                                                                \r"
     ]
    },
    {
     "data": {
      "text/plain": [
       "597075"
      ]
     },
     "execution_count": 18,
     "metadata": {},
     "output_type": "execute_result"
    }
   ],
   "source": [
    "df2.count()"
   ]
  },
  {
   "cell_type": "code",
   "execution_count": 19,
   "id": "54035d18-8296-47d8-91b5-b9ec440d1136",
   "metadata": {},
   "outputs": [
    {
     "name": "stdout",
     "output_type": "stream",
     "text": [
      "root\n",
      " |-- LOGICALREF: integer (nullable = true)\n",
      " |-- ITEMCODE: integer (nullable = true)\n",
      " |-- ITEMNAME: string (nullable = true)\n",
      " |-- AMOUNT: string (nullable = true)\n",
      " |-- PRICE: string (nullable = true)\n",
      " |-- LINENETTOTAL: string (nullable = true)\n",
      " |-- BRANCH: string (nullable = true)\n",
      " |-- CITY: string (nullable = true)\n",
      " |-- BRAND: string (nullable = true)\n",
      " |-- STARTDATE: string (nullable = true)\n",
      "\n"
     ]
    }
   ],
   "source": [
    "df2.printSchema()"
   ]
  },
  {
   "cell_type": "code",
   "execution_count": 43,
   "id": "12c41c36-f359-4917-b044-adf595ba718b",
   "metadata": {},
   "outputs": [],
   "source": [
    "df3 = (df2\n",
    "    .withColumn(\"AMOUNT\", F.regexp_replace(\"AMOUNT\", \",\", \".\").cast(FloatType()))\n",
    "    .withColumn(\"PRICE\", F.regexp_replace(\"PRICE\", \",\", \".\").cast(FloatType()))\n",
    "    .withColumn(\"LINENETTOTAL\", F.regexp_replace(\"LINENETTOTAL\", \",\", \".\").cast(FloatType()))\n",
    "    .withColumn(\n",
    "        \"STARTDATE\",\n",
    "        F.unix_timestamp(F.to_timestamp(F.col(\"STARTDATE\"), \"d.MM.yyyy HH:mm\"))\n",
    "    )\n",
    ")\n"
   ]
  },
  {
   "cell_type": "code",
   "execution_count": 44,
   "id": "edfed141-a4b5-4222-a0e2-661ecaacc8e4",
   "metadata": {},
   "outputs": [
    {
     "data": {
      "text/html": [
       "<div>\n",
       "<style scoped>\n",
       "    .dataframe tbody tr th:only-of-type {\n",
       "        vertical-align: middle;\n",
       "    }\n",
       "\n",
       "    .dataframe tbody tr th {\n",
       "        vertical-align: top;\n",
       "    }\n",
       "\n",
       "    .dataframe thead th {\n",
       "        text-align: right;\n",
       "    }\n",
       "</style>\n",
       "<table border=\"1\" class=\"dataframe\">\n",
       "  <thead>\n",
       "    <tr style=\"text-align: right;\">\n",
       "      <th></th>\n",
       "      <th>LOGICALREF</th>\n",
       "      <th>ITEMCODE</th>\n",
       "      <th>ITEMNAME</th>\n",
       "      <th>AMOUNT</th>\n",
       "      <th>PRICE</th>\n",
       "      <th>LINENETTOTAL</th>\n",
       "      <th>BRANCH</th>\n",
       "      <th>CITY</th>\n",
       "      <th>BRAND</th>\n",
       "      <th>STARTDATE</th>\n",
       "    </tr>\n",
       "  </thead>\n",
       "  <tbody>\n",
       "    <tr>\n",
       "      <th>0</th>\n",
       "      <td>2</td>\n",
       "      <td>20868</td>\n",
       "      <td>KIRMIZI MERCIMEK</td>\n",
       "      <td>1.006</td>\n",
       "      <td>2.80</td>\n",
       "      <td>2.82</td>\n",
       "      <td>Batman Subesi</td>\n",
       "      <td>Batman</td>\n",
       "      <td>BAKLİYAT</td>\n",
       "      <td>1483435500</td>\n",
       "    </tr>\n",
       "    <tr>\n",
       "      <th>1</th>\n",
       "      <td>3</td>\n",
       "      <td>8583</td>\n",
       "      <td>TEST MATIK 1,5 KG NORMAL</td>\n",
       "      <td>1.000</td>\n",
       "      <td>4.95</td>\n",
       "      <td>4.95</td>\n",
       "      <td>Batman Subesi</td>\n",
       "      <td>Batman</td>\n",
       "      <td>TEST</td>\n",
       "      <td>1483435500</td>\n",
       "    </tr>\n",
       "    <tr>\n",
       "      <th>2</th>\n",
       "      <td>4</td>\n",
       "      <td>1454</td>\n",
       "      <td>BIZIM MAKARNA BONCUK</td>\n",
       "      <td>1.000</td>\n",
       "      <td>1.10</td>\n",
       "      <td>1.10</td>\n",
       "      <td>Batman Subesi</td>\n",
       "      <td>Batman</td>\n",
       "      <td>ÜLKER</td>\n",
       "      <td>1483435500</td>\n",
       "    </tr>\n",
       "    <tr>\n",
       "      <th>3</th>\n",
       "      <td>5</td>\n",
       "      <td>13519</td>\n",
       "      <td>FILIZ MAKARNA KISA KESME 500 GR</td>\n",
       "      <td>1.000</td>\n",
       "      <td>1.10</td>\n",
       "      <td>1.10</td>\n",
       "      <td>Batman Subesi</td>\n",
       "      <td>Batman</td>\n",
       "      <td>FİLİZ</td>\n",
       "      <td>1483435500</td>\n",
       "    </tr>\n",
       "    <tr>\n",
       "      <th>4</th>\n",
       "      <td>6</td>\n",
       "      <td>8639</td>\n",
       "      <td>BINGO ULTRA CAM.SUYU 750 ML KLASIK</td>\n",
       "      <td>1.000</td>\n",
       "      <td>2.45</td>\n",
       "      <td>2.45</td>\n",
       "      <td>Batman Subesi</td>\n",
       "      <td>Batman</td>\n",
       "      <td>BİNGO</td>\n",
       "      <td>1483435500</td>\n",
       "    </tr>\n",
       "  </tbody>\n",
       "</table>\n",
       "</div>"
      ],
      "text/plain": [
       "   LOGICALREF  ITEMCODE                            ITEMNAME  AMOUNT  PRICE  \\\n",
       "0           2     20868                    KIRMIZI MERCIMEK   1.006   2.80   \n",
       "1           3      8583            TEST MATIK 1,5 KG NORMAL   1.000   4.95   \n",
       "2           4      1454                BIZIM MAKARNA BONCUK   1.000   1.10   \n",
       "3           5     13519     FILIZ MAKARNA KISA KESME 500 GR   1.000   1.10   \n",
       "4           6      8639  BINGO ULTRA CAM.SUYU 750 ML KLASIK   1.000   2.45   \n",
       "\n",
       "   LINENETTOTAL         BRANCH    CITY     BRAND   STARTDATE  \n",
       "0          2.82  Batman Subesi  Batman  BAKLİYAT  1483435500  \n",
       "1          4.95  Batman Subesi  Batman      TEST  1483435500  \n",
       "2          1.10  Batman Subesi  Batman     ÜLKER  1483435500  \n",
       "3          1.10  Batman Subesi  Batman     FİLİZ  1483435500  \n",
       "4          2.45  Batman Subesi  Batman     BİNGO  1483435500  "
      ]
     },
     "execution_count": 44,
     "metadata": {},
     "output_type": "execute_result"
    }
   ],
   "source": [
    "df3.limit(5).toPandas()"
   ]
  },
  {
   "cell_type": "code",
   "execution_count": 45,
   "id": "42b4b99a-f287-4104-883f-7c701a219a1b",
   "metadata": {},
   "outputs": [
    {
     "name": "stdout",
     "output_type": "stream",
     "text": [
      "root\n",
      " |-- LOGICALREF: integer (nullable = true)\n",
      " |-- ITEMCODE: integer (nullable = true)\n",
      " |-- ITEMNAME: string (nullable = true)\n",
      " |-- AMOUNT: float (nullable = true)\n",
      " |-- PRICE: float (nullable = true)\n",
      " |-- LINENETTOTAL: float (nullable = true)\n",
      " |-- BRANCH: string (nullable = true)\n",
      " |-- CITY: string (nullable = true)\n",
      " |-- BRAND: string (nullable = true)\n",
      " |-- STARTDATE: long (nullable = true)\n",
      "\n"
     ]
    }
   ],
   "source": [
    "df3.printSchema()"
   ]
  },
  {
   "cell_type": "code",
   "execution_count": 46,
   "id": "1092df8b-f666-4029-9a71-9d35f24f7cca",
   "metadata": {},
   "outputs": [],
   "source": [
    "odev_index =  {\n",
    "  \"settings\": {\n",
    "    \"index\": {\n",
    "      \"analysis\": {\n",
    "        \"analyzer\": {\n",
    "          \"custom_analyzer\":\n",
    "          {\n",
    "            \"type\":\"custom\",\n",
    "            \"tokenizer\":\"standard\",\n",
    "            \"filter\":[\n",
    "              \"lowercase\", \"custom_edge_ngram\"\n",
    "            ]\n",
    "          }\n",
    "        },\n",
    "        \"filter\": {\n",
    "          \"custom_edge_ngram\": {\n",
    "            \"type\": \"edge_ngram\",\n",
    "            \"min_gram\":2,\n",
    "            \"max_gram\": 10\n",
    "            }\n",
    "          }\n",
    "        }\n",
    "      }\n",
    "    },\n",
    "    \"mappings\": {\n",
    "    \"properties\": {\n",
    "      \"LOGICALREF\":  {\"type\": \"integer\"},  \n",
    "      \"ITEMCODE\":    {\"type\": \"integer\" }, \n",
    "      \"ITEMNAME\":    {\"type\": \"text\"},\n",
    "      \"AMOUNT\":      {\"type\": \"float\"},\n",
    "      \"PRICE\":       {\"type\": \"float\"},\n",
    "      \"LINENETTOTAL\":{\"type\": \"float\"},\n",
    "      \"BRANCH\":      {\"type\": \"keyword\"},\n",
    "      \"CITY\":        {\"type\": \"keyword\"},\n",
    "      \"BRAND\":       {\"type\": \"keyword\"},\n",
    "      \"STARTDATE\":   {\"type\": \"date\"},\n",
    "    }\n",
    "  }\n",
    "  }"
   ]
  },
  {
   "cell_type": "code",
   "execution_count": 47,
   "id": "0d416b9e-e29e-44eb-b64f-bc60fbe32e49",
   "metadata": {},
   "outputs": [],
   "source": [
    "es = Elasticsearch(\"http://elasticsearch:9200\")"
   ]
  },
  {
   "cell_type": "code",
   "execution_count": 48,
   "id": "56b69af6-b598-42b6-a692-192a460dbd15",
   "metadata": {},
   "outputs": [
    {
     "name": "stdout",
     "output_type": "stream",
     "text": [
      "odev_index silindi.\n"
     ]
    }
   ],
   "source": [
    "try:\n",
    "    es.indices.delete(\"odev_index\")\n",
    "    print(\"odev_index silindi.\")\n",
    "except:\n",
    "    print(\"odev_index yok\")"
   ]
  },
  {
   "cell_type": "code",
   "execution_count": 49,
   "id": "f4329195-8469-4bf7-beb4-da62eb99167e",
   "metadata": {},
   "outputs": [
    {
     "data": {
      "text/plain": [
       "{'acknowledged': True, 'shards_acknowledged': True, 'index': 'odev_index'}"
      ]
     },
     "execution_count": 49,
     "metadata": {},
     "output_type": "execute_result"
    }
   ],
   "source": [
    "es.indices.create(\"odev_index\", body=odev_index)"
   ]
  },
  {
   "cell_type": "code",
   "execution_count": 50,
   "id": "5ad7fb7c-e96e-42d4-9bdf-1a8cba42980f",
   "metadata": {},
   "outputs": [
    {
     "name": "stderr",
     "output_type": "stream",
     "text": [
      "[Stage 17:======================================>                   (2 + 1) / 3]\r"
     ]
    },
    {
     "name": "stdout",
     "output_type": "stream",
     "text": [
      "----- 62.700568437576294 secs -----\n"
     ]
    },
    {
     "name": "stderr",
     "output_type": "stream",
     "text": [
      "                                                                                \r"
     ]
    }
   ],
   "source": [
    "start_time = time.time()\n",
    "df3.write \\\n",
    "    .format(\"org.elasticsearch.spark.sql\") \\\n",
    "    .mode(\"append\") \\\n",
    "    .option(\"es.nodes\", \"es\") \\\n",
    "    .option(\"es.port\",\"9200\") \\\n",
    "    .save(\"odev_index\")\n",
    "print(\"----- %s secs -----\" %(time.time() - start_time))"
   ]
  },
  {
   "cell_type": "code",
   "execution_count": null,
   "id": "e7ebcecb-6b8b-442c-8c2a-7ba6a00bf76f",
   "metadata": {},
   "outputs": [],
   "source": []
  },
  {
   "cell_type": "code",
   "execution_count": null,
   "id": "33e3922e-794d-45ba-93fb-9347fce2f853",
   "metadata": {},
   "outputs": [],
   "source": []
  },
  {
   "cell_type": "code",
   "execution_count": null,
   "id": "d6219da9-f3d3-48ac-b060-75d715f5b6de",
   "metadata": {},
   "outputs": [],
   "source": []
  },
  {
   "cell_type": "code",
   "execution_count": null,
   "id": "42811eba-2aad-4138-a5bf-7fec4ac0827b",
   "metadata": {},
   "outputs": [],
   "source": []
  },
  {
   "cell_type": "code",
   "execution_count": null,
   "id": "1fed976f-c46e-46bb-af90-3b4004c33227",
   "metadata": {},
   "outputs": [],
   "source": []
  },
  {
   "cell_type": "code",
   "execution_count": null,
   "id": "edb75d05-3d4e-4bc4-bb65-3e9d6276b4fb",
   "metadata": {},
   "outputs": [],
   "source": []
  },
  {
   "cell_type": "code",
   "execution_count": null,
   "id": "39fa17a9-6512-4969-970c-947d589fa250",
   "metadata": {},
   "outputs": [],
   "source": []
  },
  {
   "cell_type": "code",
   "execution_count": null,
   "id": "c42ef152-3174-479b-a0bd-0379dad92c0b",
   "metadata": {},
   "outputs": [],
   "source": []
  },
  {
   "cell_type": "code",
   "execution_count": null,
   "id": "8fcd49d4-a768-40bb-b77d-9bf6c9f4346d",
   "metadata": {},
   "outputs": [],
   "source": []
  },
  {
   "cell_type": "code",
   "execution_count": null,
   "id": "ffe2c61b-6887-4a10-84a1-3eea810f6623",
   "metadata": {},
   "outputs": [],
   "source": []
  },
  {
   "cell_type": "code",
   "execution_count": null,
   "id": "fe143121-ea78-4334-b93f-f6e9cff1e551",
   "metadata": {},
   "outputs": [],
   "source": []
  },
  {
   "cell_type": "code",
   "execution_count": null,
   "id": "34d44cf9-3ca3-413f-9070-96b17f2984cb",
   "metadata": {},
   "outputs": [],
   "source": []
  },
  {
   "cell_type": "code",
   "execution_count": null,
   "id": "76a748bd-2e3b-491e-83ff-9cc2748534b2",
   "metadata": {},
   "outputs": [],
   "source": []
  },
  {
   "cell_type": "code",
   "execution_count": null,
   "id": "cffd580f-c8c9-49fc-adfc-9d660781b2be",
   "metadata": {},
   "outputs": [],
   "source": []
  },
  {
   "cell_type": "code",
   "execution_count": null,
   "id": "df8ce4b4-0ace-4920-8c0e-bab03272e7d4",
   "metadata": {},
   "outputs": [],
   "source": []
  }
 ],
 "metadata": {
  "kernelspec": {
   "display_name": "Python 3 (ipykernel)",
   "language": "python",
   "name": "python3"
  },
  "language_info": {
   "codemirror_mode": {
    "name": "ipython",
    "version": 3
   },
   "file_extension": ".py",
   "mimetype": "text/x-python",
   "name": "python",
   "nbconvert_exporter": "python",
   "pygments_lexer": "ipython3",
   "version": "3.8.18"
  }
 },
 "nbformat": 4,
 "nbformat_minor": 5
}
